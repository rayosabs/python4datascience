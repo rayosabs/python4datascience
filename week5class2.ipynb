{
 "cells": [
  {
   "cell_type": "code",
   "execution_count": 2,
   "id": "8997469a",
   "metadata": {},
   "outputs": [
    {
     "name": "stdout",
     "output_type": "stream",
     "text": [
      "Here is average score for  Sam\n",
      "66.27272727272727\n",
      "Joseph\n"
     ]
    }
   ],
   "source": [
    "name = 'Joseph'\n",
    "\n",
    "def avgscore(student_name, *scores):\n",
    "    count = len(scores)\n",
    "    total = 0\n",
    "    name = student_name\n",
    "    for score in scores:\n",
    "        total = total + score\n",
    "    print('Here is average score for ', name)\n",
    "    average = total/count\n",
    "    print(average)\n",
    "    return average\n",
    "    \n",
    "avgscore('Sam',50,80,90,37,90,70,30,56,70,60, 96)\n",
    "print(name)"
   ]
  },
  {
   "cell_type": "code",
   "execution_count": 2,
   "id": "b29aae72",
   "metadata": {},
   "outputs": [
    {
     "name": "stdout",
     "output_type": "stream",
     "text": [
      "120\n"
     ]
    }
   ],
   "source": [
    "#iterative version of factorial solution\n",
    "def factorial_iterative(n):\n",
    "    if n <=1:\n",
    "        return 1\n",
    "    total = 1\n",
    "    while n >= 1:\n",
    "     total = total * n\n",
    "     n = n-1\n",
    "    return total\n",
    "\n",
    "factorial = factorial_iterative(5)\n",
    "print(factorial)"
   ]
  },
  {
   "cell_type": "code",
   "execution_count": null,
   "id": "e5072815",
   "metadata": {},
   "outputs": [],
   "source": []
  },
  {
   "cell_type": "code",
   "execution_count": null,
   "id": "c32c6cae",
   "metadata": {},
   "outputs": [],
   "source": []
  }
 ],
 "metadata": {
  "kernelspec": {
   "display_name": "Python 3 (ipykernel)",
   "language": "python",
   "name": "python3"
  },
  "language_info": {
   "codemirror_mode": {
    "name": "ipython",
    "version": 3
   },
   "file_extension": ".py",
   "mimetype": "text/x-python",
   "name": "python",
   "nbconvert_exporter": "python",
   "pygments_lexer": "ipython3",
   "version": "3.10.9"
  }
 },
 "nbformat": 4,
 "nbformat_minor": 5
}
