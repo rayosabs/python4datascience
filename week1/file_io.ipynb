{
 "cells": [
  {
   "cell_type": "code",
   "execution_count": 13,
   "id": "36824540",
   "metadata": {},
   "outputs": [
    {
     "name": "stdout",
     "output_type": "stream",
     "text": [
      "My name is Morayo\n",
      "I am a Data Scientist\n",
      "I will achieve every set goal i have.\n",
      "- Additional text added\n",
      "- Buy Hyundai Palisade\n"
     ]
    }
   ],
   "source": [
    "file_obj = open(\"C:/Users/Zee's mom/Documents/python4datascience/week1/python_file.txt\", 'r')\n",
    "my_text = file_obj.read()\n",
    "file_obj.close()\n",
    "print(my_text)"
   ]
  },
  {
   "cell_type": "code",
   "execution_count": 10,
   "id": "dade1e69",
   "metadata": {},
   "outputs": [],
   "source": [
    "file_obj = open(\"C:/Users/Zee's mom/Documents/python4datascience/week1/python_file.txt\", 'a+')\n",
    "file_obj.write(\"\\n- Additional text added\")\n",
    "file_obj.close()"
   ]
  },
  {
   "cell_type": "code",
   "execution_count": 12,
   "id": "2a5d7818",
   "metadata": {},
   "outputs": [],
   "source": [
    "file_obj = open(\"C:/Users/Zee's mom/Documents/python4datascience/week1/python_file.txt\", 'a+')\n",
    "file_obj.write(\"\\n- Buy Hyundai Palisade\")\n",
    "file_obj.close()"
   ]
  },
  {
   "cell_type": "code",
   "execution_count": 16,
   "id": "1391f02e",
   "metadata": {},
   "outputs": [
    {
     "name": "stdout",
     "output_type": "stream",
     "text": [
      "False\n"
     ]
    }
   ],
   "source": [
    "import os\n",
    "file_check = os.path.exists(\"C:/Users/Zee's mom/Documents/python4datascience/week2/python_file.txt\")\n",
    "print(file_check)"
   ]
  },
  {
   "cell_type": "code",
   "execution_count": 17,
   "id": "03c3e487",
   "metadata": {},
   "outputs": [
    {
     "name": "stdout",
     "output_type": "stream",
     "text": [
      "False\n"
     ]
    }
   ],
   "source": [
    "import os\n",
    "file_check = os.path.isfile(\"C:/Users/Zee's mom/Documents/python4datascience/week2/python_file.txt\")\n",
    "print(file_check)"
   ]
  },
  {
   "cell_type": "code",
   "execution_count": 18,
   "id": "8a1c70ce",
   "metadata": {},
   "outputs": [
    {
     "name": "stdout",
     "output_type": "stream",
     "text": [
      "True\n"
     ]
    }
   ],
   "source": [
    "import os\n",
    "file_check = os.path.isfile(\"C:/Users/Zee's mom/Documents/python4datascience/week1/python_file.txt\")\n",
    "print(file_check)"
   ]
  },
  {
   "cell_type": "code",
   "execution_count": null,
   "id": "5c8d25c4",
   "metadata": {},
   "outputs": [],
   "source": []
  }
 ],
 "metadata": {
  "kernelspec": {
   "display_name": "Python 3 (ipykernel)",
   "language": "python",
   "name": "python3"
  },
  "language_info": {
   "codemirror_mode": {
    "name": "ipython",
    "version": 3
   },
   "file_extension": ".py",
   "mimetype": "text/x-python",
   "name": "python",
   "nbconvert_exporter": "python",
   "pygments_lexer": "ipython3",
   "version": "3.10.9"
  }
 },
 "nbformat": 4,
 "nbformat_minor": 5
}
