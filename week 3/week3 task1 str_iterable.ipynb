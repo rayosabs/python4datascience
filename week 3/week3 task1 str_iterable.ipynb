{
 "cells": [
  {
   "cell_type": "code",
   "execution_count": 1,
   "id": "2786068c",
   "metadata": {},
   "outputs": [
    {
     "data": {
      "text/plain": [
       "'My '"
      ]
     },
     "execution_count": 1,
     "metadata": {},
     "output_type": "execute_result"
    }
   ],
   "source": [
    "#write a program that accepts a string input and print out the first 3 characters\n",
    "str_iterable = 'My name is Rayo Sabs'\n",
    "str_iterable[0:3]"
   ]
  },
  {
   "cell_type": "code",
   "execution_count": 3,
   "id": "e86dc158",
   "metadata": {},
   "outputs": [
    {
     "name": "stdout",
     "output_type": "stream",
     "text": [
      "Enter the student score: 110\n",
      "The student grade is A+ - EXTRAORDINARY\n"
     ]
    }
   ],
   "source": [
    "#grading student scores\n",
    "score = float(input('Enter the student score: '))\n",
    "if score < 40:\n",
    "    print('The student grade is F - FAIL')\n",
    "elif score <= 49 and score >= 40:\n",
    "    print('The student grade is D - FAIR')\n",
    "elif score <= 59 and score >= 50:\n",
    "    print('The student grade is C - GOOD')\n",
    "elif score <= 69 and score >= 60:\n",
    "    print('The student grade is B - VERY GOOD')\n",
    "elif score >= 70 and score <=100:\n",
    "     print('The student grade is  - EXCELLENT')\n",
    "else:\n",
    "     print('The student grade is A+ - EXTRAORDINARY')"
   ]
  },
  {
   "cell_type": "code",
   "execution_count": 2,
   "id": "40c300c2",
   "metadata": {},
   "outputs": [
    {
     "name": "stdout",
     "output_type": "stream",
     "text": [
      "Enter the student score: 69.2\n",
      "The student grade is B - VERY GOOD\n"
     ]
    }
   ],
   "source": [
    "#grading student scores\n",
    "score = float(input('Enter the student score: '))\n",
    "if score < 40:\n",
    "    print('The student grade is F - FAIL')\n",
    "elif score < 50 and score >= 40:\n",
    "    print('The student grade is D - FAIR')\n",
    "elif score < 60 and score >= 50:\n",
    "    print('The student grade is C - GOOD')\n",
    "elif score < 70 and score >= 60:\n",
    "    print('The student grade is B - VERY GOOD')\n",
    "elif score >= 70 and score <=100:\n",
    "     print('The student grade is  - EXCELLENT')\n",
    "else:\n",
    "     print('The student grade is A+ - EXTRAORDINARY')"
   ]
  },
  {
   "cell_type": "code",
   "execution_count": 3,
   "id": "ca255aab",
   "metadata": {},
   "outputs": [
    {
     "name": "stdout",
     "output_type": "stream",
     "text": [
      "the square of 1 is = 1\n",
      "the square of 2 is = 4\n",
      "the square of 3 is = 9\n",
      "the square of 4 is = 16\n",
      "the square of 5 is = 25\n",
      "the square of 6 is = 36\n",
      "the square of 7 is = 49\n",
      "the square of 8 is = 64\n",
      "the square of 9 is = 81\n",
      "the square of 10 is = 100\n",
      "the square of 11 is = 121\n",
      "the square of 12 is = 144\n",
      "the square of 13 is = 169\n",
      "the square of 14 is = 196\n",
      "the square of 15 is = 225\n",
      "the square of 16 is = 256\n",
      "the square of 17 is = 289\n",
      "the square of 18 is = 324\n",
      "the square of 19 is = 361\n",
      "the square of 20 is = 400\n"
     ]
    }
   ],
   "source": [
    "#write a program that squares the numbers between 1 and 20\n",
    "#1,2,3,4,5,..20 and their squares are 1,4,9,16,25,..400\n",
    "for number in range(1,21):\n",
    "    square = number*number #number**2\n",
    "    print('the square of', number, 'is =', square)"
   ]
  },
  {
   "cell_type": "code",
   "execution_count": 4,
   "id": "6b84746b",
   "metadata": {},
   "outputs": [
    {
     "name": "stdout",
     "output_type": "stream",
     "text": [
      "Mango : 5\n",
      "Orange : 6\n",
      "Banana : 6\n",
      "Cashew : 6\n",
      "Pineapple : 9\n",
      "Apple : 5\n"
     ]
    }
   ],
   "source": [
    "#loop over the list and print out each item and their length\n",
    "fruits = ['Mango', 'Orange', 'Banana', 'Cashew', 'Pineapple', 'Apple']\n",
    "for item in fruits:\n",
    "    print(item, ':', len(item))"
   ]
  },
  {
   "cell_type": "code",
   "execution_count": 6,
   "id": "fb4d3ed3",
   "metadata": {},
   "outputs": [
    {
     "name": "stdout",
     "output_type": "stream",
     "text": [
      "The length of the list is 6\n",
      "The fruit at index 0 is Mango of length 5\n",
      "The fruit at index 1 is Orange of length 6\n",
      "The fruit at index 2 is Banana of length 6\n",
      "The fruit at index 3 is Cashew of length 6\n",
      "The fruit at index 4 is Pineapple of length 9\n",
      "The fruit at index 5 is Apple of length 5\n"
     ]
    }
   ],
   "source": [
    "\n",
    "#loop over the list and print out each item and their length\n",
    "fruits = ['Mango', 'Orange', 'Banana', 'Cashew', 'Pineapple', 'Apple']\n",
    "length = len(fruits)\n",
    "print('The length of the list is', length)\n",
    "for i in range(length):\n",
    "    print('The fruit at index', i, 'is', fruits[i], 'of length', len(fruits[i]))"
   ]
  },
  {
   "cell_type": "code",
   "execution_count": 8,
   "id": "4244499b",
   "metadata": {},
   "outputs": [
    {
     "name": "stdout",
     "output_type": "stream",
     "text": [
      "The fruit at index 0 is Mango of length 5\n",
      "The fruit at index 1 is Orange of length 6\n",
      "The fruit at index 2 is Banana of length 6\n",
      "The fruit at index 3 is Cashew of length 6\n",
      "The fruit at index 4 is Pineapple of length 9\n",
      "The fruit at index 5 is Apple of length 5\n"
     ]
    }
   ],
   "source": [
    "#loop over the list and print out each item and their length using while loop statement\n",
    "fruits = ['Mango', 'Orange', 'Banana', 'Cashew', 'Pineapple', 'Apple']\n",
    "length = len(fruits)\n",
    "index = 0\n",
    "while index < length:\n",
    "    print('The fruit at index', index , 'is', fruits[index], 'of length', len(fruits[index]))\n",
    "    index = index + 1"
   ]
  },
  {
   "cell_type": "code",
   "execution_count": null,
   "id": "b1adbb86",
   "metadata": {},
   "outputs": [],
   "source": []
  }
 ],
 "metadata": {
  "kernelspec": {
   "display_name": "Python 3 (ipykernel)",
   "language": "python",
   "name": "python3"
  },
  "language_info": {
   "codemirror_mode": {
    "name": "ipython",
    "version": 3
   },
   "file_extension": ".py",
   "mimetype": "text/x-python",
   "name": "python",
   "nbconvert_exporter": "python",
   "pygments_lexer": "ipython3",
   "version": "3.10.9"
  }
 },
 "nbformat": 4,
 "nbformat_minor": 5
}
