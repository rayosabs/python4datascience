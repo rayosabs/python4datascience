{
 "cells": [
  {
   "cell_type": "code",
   "execution_count": 6,
   "id": "35791fa1",
   "metadata": {},
   "outputs": [
    {
     "name": "stdout",
     "output_type": "stream",
     "text": [
      "Enter the subject of your email:New order\n",
      "Enter the body of your email:send my items\n",
      "Enter mail recipients: self\n",
      "Specify what you are attaching: sample pictures\n",
      "Sending email ...\n",
      "Recipients: ('self',)\n",
      "Subject: New order\n",
      "Email Body: send my items\n",
      "This has attachments: sample pictures\n",
      "Print Email sent!\n"
     ]
    }
   ],
   "source": [
    "class Email(object):\n",
    "    files = ''\n",
    "    def __init__(self, subject, body):\n",
    "        self.subject = subject\n",
    "        self.body = body\n",
    "    def edit(self, subject, body):\n",
    "        self.subject = subject\n",
    "        self.body = body\n",
    "        return self\n",
    "    def attachFiles(self, files):\n",
    "        self.files = files\n",
    "        return self\n",
    "    def recipient(self, *recipients):\n",
    "        self.recipients = recipients\n",
    "    \n",
    "    def sendMail(self):\n",
    "        print('Sending email ...')\n",
    "        print('Recipients:', self.recipients)\n",
    "        print('Subject:', self.subject)\n",
    "        if(self.body == ''):\n",
    "            print('Your email body is empty')\n",
    "        else:\n",
    "            print('Email Body:', self.body)\n",
    "        if(self.files):\n",
    "            print('This has attachments:', self.files)\n",
    "            \n",
    "        print('Print Email sent!')\n",
    "        \n",
    "#creating an instance and using the object\n",
    "subject = input('Enter the subject of your email:')\n",
    "body = input('Enter the body of your email:')\n",
    "receiver = input('Enter mail recipients: ')\n",
    "\n",
    "myMail = Email(subject, body)\n",
    "myMail.recipient(receiver)\n",
    "attachments = input('Specify what you are attaching: ')\n",
    "myMail.attachFiles(attachments)\n",
    "myMail.sendMail()\n",
    "\n"
   ]
  },
  {
   "cell_type": "code",
   "execution_count": 9,
   "id": "b6ff7b6e",
   "metadata": {},
   "outputs": [
    {
     "name": "stdout",
     "output_type": "stream",
     "text": [
      "Sam20\n"
     ]
    }
   ],
   "source": [
    "class A:\n",
    "   def __init__(self, a):\n",
    "        self.a = a\n",
    "   def __add__(self, o):\n",
    "        return self.a + o.a\n",
    "\n",
    "obj1 = A('Sam')\n",
    "obj2 = A('20')\n",
    "\n",
    "obj3 = obj1 + obj2\n",
    "\n",
    "obj1.__add__(obj2)\n",
    "\n",
    "print(obj3)"
   ]
  },
  {
   "cell_type": "code",
   "execution_count": null,
   "id": "b323122b",
   "metadata": {},
   "outputs": [],
   "source": []
  }
 ],
 "metadata": {
  "kernelspec": {
   "display_name": "Python 3 (ipykernel)",
   "language": "python",
   "name": "python3"
  },
  "language_info": {
   "codemirror_mode": {
    "name": "ipython",
    "version": 3
   },
   "file_extension": ".py",
   "mimetype": "text/x-python",
   "name": "python",
   "nbconvert_exporter": "python",
   "pygments_lexer": "ipython3",
   "version": "3.10.9"
  }
 },
 "nbformat": 4,
 "nbformat_minor": 5
}
