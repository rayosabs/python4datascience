{
 "cells": [
  {
   "cell_type": "code",
   "execution_count": 2,
   "id": "87ab3a5f",
   "metadata": {},
   "outputs": [
    {
     "name": "stdout",
     "output_type": "stream",
     "text": [
      "['Sandra', 'Joe', 'John', 'Ejike']\n"
     ]
    }
   ],
   "source": [
    "mylist = ['Sandra', 'Joe', 'John']\n",
    "mylist.append('Ejike')\n",
    "print(mylist)"
   ]
  },
  {
   "cell_type": "code",
   "execution_count": 3,
   "id": "0a059839",
   "metadata": {},
   "outputs": [
    {
     "name": "stdout",
     "output_type": "stream",
     "text": [
      "['Sandra', 'Morayo', 'Joe', 'John', 'Ejike']\n"
     ]
    }
   ],
   "source": [
    "mylist.insert(1, 'Morayo')\n",
    "print(mylist)"
   ]
  },
  {
   "cell_type": "code",
   "execution_count": 4,
   "id": "58c99837",
   "metadata": {},
   "outputs": [
    {
     "name": "stdout",
     "output_type": "stream",
     "text": [
      "['Sandra', 'Morayo', 'John', 'Ejike']\n"
     ]
    }
   ],
   "source": [
    "mylist.remove('Joe')\n",
    "print(mylist)"
   ]
  },
  {
   "cell_type": "code",
   "execution_count": 5,
   "id": "aa56f9ae",
   "metadata": {},
   "outputs": [
    {
     "name": "stdout",
     "output_type": "stream",
     "text": [
      "['Sandra', 'Morayo', 'John', 'Ejike']\n"
     ]
    }
   ],
   "source": [
    "class_a = mylist.copy()\n",
    "print(class_a)"
   ]
  },
  {
   "cell_type": "code",
   "execution_count": 6,
   "id": "ca0a4270",
   "metadata": {},
   "outputs": [
    {
     "name": "stdout",
     "output_type": "stream",
     "text": [
      "['Sandra', 'Morayo', 'John', 'Ejike', 'Toyin', 'Esther', 'Sam', 'Anu']\n"
     ]
    }
   ],
   "source": [
    "class_b = ['Toyin', 'Esther', 'Sam', 'Anu']\n",
    "class_a.extend(class_b)\n",
    "print(class_a)"
   ]
  },
  {
   "cell_type": "code",
   "execution_count": 7,
   "id": "6d316875",
   "metadata": {},
   "outputs": [
    {
     "name": "stdout",
     "output_type": "stream",
     "text": [
      "['Anu', 'Ejike', 'Esther', 'John', 'Morayo', 'Sam', 'Sandra', 'Toyin']\n"
     ]
    }
   ],
   "source": [
    "class_a.sort()\n",
    "print(class_a)"
   ]
  },
  {
   "cell_type": "code",
   "execution_count": 8,
   "id": "b3644806",
   "metadata": {},
   "outputs": [
    {
     "name": "stdout",
     "output_type": "stream",
     "text": [
      "['Toyin', 'Sandra', 'Sam', 'Morayo', 'John', 'Esther', 'Ejike', 'Anu']\n"
     ]
    }
   ],
   "source": [
    "class_a.reverse()\n",
    "print(class_a)"
   ]
  },
  {
   "cell_type": "code",
   "execution_count": 9,
   "id": "32677d40",
   "metadata": {},
   "outputs": [
    {
     "name": "stdout",
     "output_type": "stream",
     "text": [
      "['Toyin', 'Sandra', 'Sam', 'Morayo', 'John', 'Esther', 'Ejike', 'Anu', 'John']\n"
     ]
    }
   ],
   "source": [
    "class_a.append('John')\n",
    "print(class_a)"
   ]
  },
  {
   "cell_type": "code",
   "execution_count": 10,
   "id": "3a87cbeb",
   "metadata": {},
   "outputs": [
    {
     "name": "stdout",
     "output_type": "stream",
     "text": [
      "2\n"
     ]
    }
   ],
   "source": [
    "name_count = class_a.count('John')\n",
    "print(name_count)"
   ]
  },
  {
   "cell_type": "code",
   "execution_count": 11,
   "id": "8fda2b4f",
   "metadata": {},
   "outputs": [
    {
     "name": "stdout",
     "output_type": "stream",
     "text": [
      "Toyin count = 1\n",
      "Sandra count = 1\n",
      "Sam count = 1\n",
      "Morayo count = 1\n",
      "John count = 2\n",
      "Esther count = 1\n",
      "Ejike count = 1\n",
      "Anu count = 1\n",
      "John count = 2\n"
     ]
    }
   ],
   "source": [
    "for name in class_a:\n",
    "    print(name, 'count =', class_a.count(name))"
   ]
  },
  {
   "cell_type": "code",
   "execution_count": 13,
   "id": "d6f5a570",
   "metadata": {},
   "outputs": [
    {
     "name": "stdout",
     "output_type": "stream",
     "text": [
      "['Toyin', 'Sandra', 'Sam', 'Morayo', 'John', 'John', 'John', 'Esther', 'Ejike', 'Anu', 'John']\n",
      "Toyin count = 1\n",
      "Sandra count = 1\n",
      "Sam count = 1\n",
      "Morayo count = 1\n",
      "John count = 4\n",
      "Esther count = 1\n",
      "Ejike count = 1\n",
      "Anu count = 1\n"
     ]
    }
   ],
   "source": [
    "check_list = []\n",
    "class_a.insert(4, 'John')\n",
    "print(class_a)\n",
    "for name in class_a:\n",
    "    if name not in check_list:\n",
    "        check_list.append(name)\n",
    "        print(name, 'count =', class_a.count(name))"
   ]
  },
  {
   "cell_type": "code",
   "execution_count": 15,
   "id": "f041a4c3",
   "metadata": {},
   "outputs": [
    {
     "name": "stdout",
     "output_type": "stream",
     "text": [
      "['Toyin', 'Sandra', 'Sam', 'Morayo', 'Esther', 'Ejike', 'Anu', 'John']\n"
     ]
    }
   ],
   "source": [
    "for name in class_a:\n",
    "    if class_a.count(name) > 1:\n",
    "        class_a.remove(name)\n",
    "print(class_a)"
   ]
  },
  {
   "cell_type": "code",
   "execution_count": null,
   "id": "b4d6e51a",
   "metadata": {},
   "outputs": [],
   "source": []
  },
  {
   "cell_type": "code",
   "execution_count": null,
   "id": "e5936853",
   "metadata": {},
   "outputs": [],
   "source": []
  },
  {
   "cell_type": "code",
   "execution_count": null,
   "id": "596103a3",
   "metadata": {},
   "outputs": [],
   "source": []
  }
 ],
 "metadata": {
  "kernelspec": {
   "display_name": "Python 3 (ipykernel)",
   "language": "python",
   "name": "python3"
  },
  "language_info": {
   "codemirror_mode": {
    "name": "ipython",
    "version": 3
   },
   "file_extension": ".py",
   "mimetype": "text/x-python",
   "name": "python",
   "nbconvert_exporter": "python",
   "pygments_lexer": "ipython3",
   "version": "3.10.9"
  }
 },
 "nbformat": 4,
 "nbformat_minor": 5
}
