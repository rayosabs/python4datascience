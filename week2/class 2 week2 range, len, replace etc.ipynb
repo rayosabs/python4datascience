{
 "cells": [
  {
   "cell_type": "code",
   "execution_count": 1,
   "id": "c7aa0c69",
   "metadata": {},
   "outputs": [
    {
     "name": "stdout",
     "output_type": "stream",
     "text": [
      "0\n",
      "1\n",
      "2\n",
      "3\n",
      "4\n",
      "5\n",
      "6\n",
      "7\n",
      "8\n",
      "9\n"
     ]
    }
   ],
   "source": [
    "#using built-in functions\n",
    "number_range = range(10)\n",
    "for i in number_range:\n",
    "    print(i)"
   ]
  },
  {
   "cell_type": "code",
   "execution_count": 2,
   "id": "628ba449",
   "metadata": {},
   "outputs": [
    {
     "name": "stdout",
     "output_type": "stream",
     "text": [
      "2\n",
      "4\n",
      "6\n",
      "8\n",
      "10\n",
      "12\n",
      "14\n",
      "16\n",
      "18\n"
     ]
    }
   ],
   "source": [
    "number_range = range(2,20,2)\n",
    "for i in number_range:\n",
    "    print(i)"
   ]
  },
  {
   "cell_type": "code",
   "execution_count": 3,
   "id": "92fbf3f6",
   "metadata": {},
   "outputs": [
    {
     "name": "stdout",
     "output_type": "stream",
     "text": [
      "2\n",
      "4\n",
      "6\n",
      "8\n",
      "10\n",
      "12\n",
      "14\n",
      "16\n",
      "18\n",
      "20\n"
     ]
    }
   ],
   "source": [
    "number_range = range(2,22,2)\n",
    "for i in number_range:\n",
    "    print(i)"
   ]
  },
  {
   "cell_type": "code",
   "execution_count": 9,
   "id": "ca07fd85",
   "metadata": {},
   "outputs": [
    {
     "name": "stdout",
     "output_type": "stream",
     "text": [
      "(20, 30, 40, 35)\n",
      "Sam max score is 40\n",
      "Sam min score is 20\n",
      "Sam total score is 125\n",
      "Number of subjects taken 4\n"
     ]
    }
   ],
   "source": [
    "#list\n",
    "sam = (20,30,40,35)\n",
    "print(sam)\n",
    "sam_max_score = max(sam)\n",
    "print(\"Sam max score is \" + str(sam_max_score))\n",
    "\n",
    "sam_min_score = min(sam)\n",
    "print(\"Sam min score is \" + str(sam_min_score))\n",
    "\n",
    "sam_sum_score = sum(sam)\n",
    "print(\"Sam total score is \" + str(sam_sum_score))\n",
    "\n",
    "no_of_subject = len(sam)\n",
    "print(\"Number of subjects taken \" + str(no_of_subject))\n"
   ]
  },
  {
   "cell_type": "code",
   "execution_count": 15,
   "id": "2276cf91",
   "metadata": {},
   "outputs": [
    {
     "name": "stdout",
     "output_type": "stream",
     "text": [
      "hello world\n",
      "HELLO WORLD\n",
      "hELLO wORLD\n",
      "<class 'str'>\n",
      "Morayo-Ejike-Anuoluwa-Esther-Toyin\n",
      "<class 'str'>\n",
      "['Morayo', 'Ejike', 'Anuoluwa', 'Esther', 'Toyin']\n",
      "<class 'str'>\n",
      "Morayo, Ejike, Anuoluwa, Esther, Toyin\n",
      "Morayo, Ejike, Anuoluwa, Esther, Toyin\n"
     ]
    }
   ],
   "source": [
    "#common built-in string functions\n",
    "text_a = \"Hello World\"\n",
    "text_a_lower = text_a.lower()\n",
    "print(text_a_lower)\n",
    "\n",
    "text_a_upper = text_a.upper()\n",
    "print(text_a_upper)\n",
    "\n",
    "text_a_caseswap = text_a.swapcase()\n",
    "print(text_a_caseswap)\n",
    "\n",
    "text_b = \"Morayo-Ejike-Anuoluwa-Esther-Toyin\"\n",
    "print(type(text_b))\n",
    "print(text_b)\n",
    "\n",
    "#splitting a string\n",
    "split_text_b = text_b.split('-')\n",
    "print(type(text_b))\n",
    "print(split_text_b)\n",
    "\n",
    "#converting a list to a string using join function\n",
    "joined_text_b = \", \".join(split_text_b)\n",
    "print(type(text_b))\n",
    "print(joined_text_b)\n",
    "\n",
    "#using the replace function\n",
    "replace_text_b = text_b.replace('-', ', ')\n",
    "print(replace_text_b)"
   ]
  },
  {
   "cell_type": "code",
   "execution_count": 21,
   "id": "7ae31db0",
   "metadata": {},
   "outputs": [
    {
     "name": "stdout",
     "output_type": "stream",
     "text": [
      "<class 'str'>\n",
      "['Door Window;Watch Clock;Laptop desktop']\n",
      "Door Window - Watch Clock - Laptop desktop\n"
     ]
    }
   ],
   "source": [
    "#using what i have learned\n",
    "#format the following text\n",
    "#text_c = \"Door Window;Watch Clock;Laptop desktop\"\n",
    "#result = Door Window - Watch Clock - Laptop Desktop\n",
    "\n",
    "text_c = \"Door Window;Watch Clock;Laptop desktop\"\n",
    "split_text_c = text_c.split('-')\n",
    "print(type(text_c))\n",
    "print(split_text_c)\n",
    "\n",
    "#using the replace function\n",
    "replace_text_c = text_c.replace(';', ' - ')\n",
    "print(replace_text_c)"
   ]
  },
  {
   "cell_type": "code",
   "execution_count": null,
   "id": "835f795c",
   "metadata": {},
   "outputs": [],
   "source": []
  }
 ],
 "metadata": {
  "kernelspec": {
   "display_name": "Python 3 (ipykernel)",
   "language": "python",
   "name": "python3"
  },
  "language_info": {
   "codemirror_mode": {
    "name": "ipython",
    "version": 3
   },
   "file_extension": ".py",
   "mimetype": "text/x-python",
   "name": "python",
   "nbconvert_exporter": "python",
   "pygments_lexer": "ipython3",
   "version": "3.10.9"
  }
 },
 "nbformat": 4,
 "nbformat_minor": 5
}
