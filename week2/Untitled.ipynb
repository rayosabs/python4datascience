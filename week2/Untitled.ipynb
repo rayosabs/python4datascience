{
 "cells": [
  {
   "cell_type": "code",
   "execution_count": 1,
   "id": "36002baa",
   "metadata": {},
   "outputs": [
    {
     "name": "stdout",
     "output_type": "stream",
     "text": [
      "Please enter your birth year e.g 1990: 1970\n",
      "\n",
      "Enter the current year e.g 2003: 2023\n",
      "\n",
      "Your age is: 53\n"
     ]
    }
   ],
   "source": [
    "#This program calculates the age of a person\n",
    "birth_year = int(input(\"Please enter your birth year e.g 1990: \"))\n",
    "current_year = int(input(\"\\nEnter the current year e.g 2003: \"))\n",
    "age = current_year - birth_year\n",
    "print(\"\\nYour age is: \" + str(age))"
   ]
  },
  {
   "cell_type": "code",
   "execution_count": 7,
   "id": "e76ee91a",
   "metadata": {},
   "outputs": [
    {
     "name": "stdout",
     "output_type": "stream",
     "text": [
      "Enter base side of the triangle: 2.6\n",
      "Enter height side of the triangle: 4\n",
      "\n",
      "Your area is: 27.040000000000003\n"
     ]
    }
   ],
   "source": [
    "#write a program that accepts parameter and calculate the area of the triangle\n",
    "base = 2.6\n",
    "height = 4\n",
    "area = 2.6 * base * height\n",
    "base = float(input(\"Enter base side of the triangle: \" ))\n",
    "height = float(input(\"Enter height side of the triangle: \"))\n",
    "print(\"\\nYour area is: \" + str(area))"
   ]
  },
  {
   "cell_type": "code",
   "execution_count": null,
   "id": "30ad9ff9",
   "metadata": {},
   "outputs": [],
   "source": []
  }
 ],
 "metadata": {
  "kernelspec": {
   "display_name": "Python 3 (ipykernel)",
   "language": "python",
   "name": "python3"
  },
  "language_info": {
   "codemirror_mode": {
    "name": "ipython",
    "version": 3
   },
   "file_extension": ".py",
   "mimetype": "text/x-python",
   "name": "python",
   "nbconvert_exporter": "python",
   "pygments_lexer": "ipython3",
   "version": "3.10.9"
  }
 },
 "nbformat": 4,
 "nbformat_minor": 5
}
