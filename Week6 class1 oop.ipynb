{
 "cells": [
  {
   "cell_type": "code",
   "execution_count": 11,
   "id": "7060da59",
   "metadata": {},
   "outputs": [
    {
     "name": "stdout",
     "output_type": "stream",
     "text": [
      "Name: Sam\n",
      "Age: 10\n",
      "Sex: male\n",
      "Name: Sam\n",
      "Age: 25\n",
      "Sex: Male\n"
     ]
    },
    {
     "data": {
      "text/plain": [
       "<__main__.Person at 0x22539615ab0>"
      ]
     },
     "execution_count": 11,
     "metadata": {},
     "output_type": "execute_result"
    }
   ],
   "source": [
    "class Person(object):\n",
    "    sex = 'male'\n",
    "    age = 10\n",
    "    def __init__(self, name):\n",
    "        self.name = name\n",
    "        return\n",
    "    def getinfo(self):\n",
    "        print('Name:',self.name)\n",
    "        print('Age:',self.age)\n",
    "        print('Sex:',self.sex)\n",
    "        return self\n",
    "    def setInfo(self, sex, age):\n",
    "        self.sex = sex\n",
    "        self.age = age\n",
    "        return\n",
    "    \n",
    "person_obj = Person('Sam')\n",
    "person_obj.getInfo()\n",
    "person_obj.setInfo('Male', 25)\n",
    "person_obj.getInfo()"
   ]
  },
  {
   "cell_type": "code",
   "execution_count": 1,
   "id": "2c7d15c1",
   "metadata": {},
   "outputs": [],
   "source": [
    "#the animal is walking\n",
    "def walk(self):\n",
    "        print('The animal is walking')\n",
    "def talk(self):\n",
    "        print('The animal is talking')\n",
    "        animal = Animal()\n",
    "        animal.walk()\n",
    "        animal.talk()"
   ]
  },
  {
   "cell_type": "code",
   "execution_count": null,
   "id": "5bbc490d",
   "metadata": {},
   "outputs": [],
   "source": []
  },
  {
   "cell_type": "code",
   "execution_count": null,
   "id": "f7edeca4",
   "metadata": {},
   "outputs": [],
   "source": []
  },
  {
   "cell_type": "code",
   "execution_count": null,
   "id": "fa6570de",
   "metadata": {},
   "outputs": [],
   "source": []
  }
 ],
 "metadata": {
  "kernelspec": {
   "display_name": "Python 3 (ipykernel)",
   "language": "python",
   "name": "python3"
  },
  "language_info": {
   "codemirror_mode": {
    "name": "ipython",
    "version": 3
   },
   "file_extension": ".py",
   "mimetype": "text/x-python",
   "name": "python",
   "nbconvert_exporter": "python",
   "pygments_lexer": "ipython3",
   "version": "3.10.9"
  }
 },
 "nbformat": 4,
 "nbformat_minor": 5
}
