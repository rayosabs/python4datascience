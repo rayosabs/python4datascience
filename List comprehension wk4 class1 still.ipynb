{
 "cells": [
  {
   "cell_type": "code",
   "execution_count": 6,
   "id": "673e6e54",
   "metadata": {},
   "outputs": [
    {
     "name": "stdout",
     "output_type": "stream",
     "text": [
      "[[1, 11], [2, 12], [3, 13], [4, 14], [5, 15], [6, 16]]\n",
      "----------------------------------------\n",
      "[[1, 11], [2, 12], [3, 13], [4, 14], [5, 15], [6, 16]]\n"
     ]
    }
   ],
   "source": [
    "#combining 2 seperate lists to form a list of sub lists\n",
    "list1 = [1,2,3,4,5,6]\n",
    "list2 = [11,12,13,14,15,16]\n",
    "length = len(list1)\n",
    "#new_list = [[1,11], [2,12], [3,13], [4,14]]\n",
    "new_list = []\n",
    "for i in range(length):\n",
    "    sub_list = [list1[i], list2[i]]\n",
    "    new_list.append(sub_list)\n",
    "print(new_list)\n",
    "\n",
    "print(20 * '--')\n",
    "\n",
    "#list comprehension version\n",
    "new_list1 = [[list1[i],list2[i]] for i in range(len(list1))]\n",
    "print(new_list1)"
   ]
  },
  {
   "cell_type": "code",
   "execution_count": 11,
   "id": "32196e6f",
   "metadata": {},
   "outputs": [
    {
     "name": "stdout",
     "output_type": "stream",
     "text": [
      "[11, 24, 39, 56, 75, 96]\n",
      "----------------------------------------\n",
      "[11, 24, 39, 56, 75, 96]\n"
     ]
    }
   ],
   "source": [
    "lists_multiplied = []\n",
    "for i in range(length):\n",
    "    multiply = list1[i] * list2[i]\n",
    "    lists_multiplied.append(multiply)\n",
    "print(lists_multiplied)\n",
    "\n",
    "print(20 * '--')\n",
    "\n",
    "#list comprehension version\n",
    "new_list1 = [[list1[i] * list2[i]] for i in range(len(list1))]\n",
    "print(lists_multiplied)"
   ]
  },
  {
   "cell_type": "code",
   "execution_count": 9,
   "id": "c5a06b36",
   "metadata": {},
   "outputs": [
    {
     "name": "stdout",
     "output_type": "stream",
     "text": [
      "[12, 14, 16, 18, 20, 22]\n",
      "----------------------------------------\n",
      "[[12], [14], [16], [18], [20], [22]]\n"
     ]
    }
   ],
   "source": [
    "#write the program to combine 2 lists to a list of corresponding items\n",
    "lists_added = []\n",
    "for i in range(length):\n",
    "    added = list1[i] + list2[i]\n",
    "    lists_added.append(added)\n",
    "print(lists_added)\n",
    "\n",
    "print(20 * '--')\n",
    "\n",
    "#list comprehension version\n",
    "new_list1 = [[list1[i] + list2[i]] for i in range(len(list1))]\n",
    "print(new_list1)"
   ]
  },
  {
   "cell_type": "code",
   "execution_count": 10,
   "id": "11105ebd",
   "metadata": {},
   "outputs": [
    {
     "name": "stdout",
     "output_type": "stream",
     "text": [
      "nhoJ\n"
     ]
    }
   ],
   "source": [
    "test_str = 'John'\n",
    "#reversw a string using loop\n",
    "reversed_str = ''\n",
    "for character in test_str:\n",
    "    reversed_str = reversed_str = character + reversed_str\n",
    "print(reversed_str)"
   ]
  },
  {
   "cell_type": "code",
   "execution_count": 11,
   "id": "8595a80a",
   "metadata": {},
   "outputs": [
    {
     "name": "stdout",
     "output_type": "stream",
     "text": [
      "nhoJ\n"
     ]
    }
   ],
   "source": [
    "#reverse a string using slicing\n",
    "test_str = 'John'\n",
    "reversed_str =test_str[::-1]\n",
    "print(reversed_str)"
   ]
  },
  {
   "cell_type": "code",
   "execution_count": 14,
   "id": "2bcf7dc7",
   "metadata": {},
   "outputs": [
    {
     "ename": "TypeError",
     "evalue": "can only concatenate str (not \"int\") to str",
     "output_type": "error",
     "traceback": [
      "\u001b[1;31m---------------------------------------------------------------------------\u001b[0m",
      "\u001b[1;31mTypeError\u001b[0m                                 Traceback (most recent call last)",
      "Cell \u001b[1;32mIn[14], line 3\u001b[0m\n\u001b[0;32m      1\u001b[0m x\u001b[38;5;241m=\u001b[39m \u001b[38;5;124m\"\u001b[39m\u001b[38;5;124m3\u001b[39m\u001b[38;5;124m\"\u001b[39m\n\u001b[0;32m      2\u001b[0m y\u001b[38;5;241m=\u001b[39m \u001b[38;5;241m2\u001b[39m\n\u001b[1;32m----> 3\u001b[0m \u001b[38;5;28mprint\u001b[39m(\u001b[43mx\u001b[49m\u001b[38;5;241;43m+\u001b[39;49m\u001b[43my\u001b[49m)\n",
      "\u001b[1;31mTypeError\u001b[0m: can only concatenate str (not \"int\") to str"
     ]
    }
   ],
   "source": [
    "x= \"3\"\n",
    "y= 2\n",
    "print(x+y)"
   ]
  },
  {
   "cell_type": "code",
   "execution_count": 15,
   "id": "869519aa",
   "metadata": {},
   "outputs": [
    {
     "name": "stdout",
     "output_type": "stream",
     "text": [
      "5\n"
     ]
    }
   ],
   "source": [
    "x= 3\n",
    "y= 2\n",
    "print(x+y)"
   ]
  },
  {
   "cell_type": "code",
   "execution_count": null,
   "id": "ba97d9ba",
   "metadata": {},
   "outputs": [],
   "source": []
  }
 ],
 "metadata": {
  "kernelspec": {
   "display_name": "Python 3 (ipykernel)",
   "language": "python",
   "name": "python3"
  },
  "language_info": {
   "codemirror_mode": {
    "name": "ipython",
    "version": 3
   },
   "file_extension": ".py",
   "mimetype": "text/x-python",
   "name": "python",
   "nbconvert_exporter": "python",
   "pygments_lexer": "ipython3",
   "version": "3.10.9"
  }
 },
 "nbformat": 4,
 "nbformat_minor": 5
}
